{
  "nbformat": 4,
  "nbformat_minor": 0,
  "metadata": {
    "colab": {
      "provenance": [],
      "authorship_tag": "ABX9TyMgeinfvSyx9KAHiaLVOeI8",
      "include_colab_link": true
    },
    "kernelspec": {
      "name": "python3",
      "display_name": "Python 3"
    },
    "language_info": {
      "name": "python"
    }
  },
  "cells": [
    {
      "cell_type": "markdown",
      "metadata": {
        "id": "view-in-github",
        "colab_type": "text"
      },
      "source": [
        "<a href=\"https://colab.research.google.com/github/sauryanshu55/CryptoPlay-ETF/blob/main/Expenses_and_Tax_Calculation.ipynb\" target=\"_parent\"><img src=\"https://colab.research.google.com/assets/colab-badge.svg\" alt=\"Open In Colab\"/></a>"
      ]
    },
    {
      "cell_type": "markdown",
      "source": [
        "**EXPENSE CALCULATION**"
      ],
      "metadata": {
        "id": "uDk2_jTHcgCz"
      }
    },
    {
      "cell_type": "code",
      "execution_count": 1,
      "metadata": {
        "colab": {
          "base_uri": "https://localhost:8080/"
        },
        "id": "CNauxiE6FPQY",
        "outputId": "8af1013a-9460-427b-a248-b0767c4c5495"
      },
      "outputs": [
        {
          "output_type": "stream",
          "name": "stdout",
          "text": [
            "Year | Portfolio Value ($) | Total Expenses ($)\n",
            "1    | 10431.75           | 68.25\n",
            "2    | 10882.14           | 139.45\n",
            "3    | 11351.98           | 213.72\n",
            "5    | 12353.38           | 372.02\n",
            "10    | 15260.60           | 831.58\n"
          ]
        }
      ],
      "source": [
        "# Constants\n",
        "initial_investment = 10000  # Initial investment amount\n",
        "annual_expense_ratio = 0.65 / 100  # 0.65% annual expense ratio\n",
        "annual_return_rate = 5 / 100  # 5% annual return compounded\n",
        "holding_years = [1, 2, 3, 5, 10]  # Years to calculate for\n",
        "\n",
        "# Function to calculate portfolio value and accrued expenses over time\n",
        "def calculate_expenses(investment, expense_ratio, return_rate, years_list):\n",
        "    results = []\n",
        "    for year in years_list:\n",
        "        value = investment  # Starting value for each year\n",
        "        total_expenses = 0\n",
        "        for _ in range(year):\n",
        "            gross_value = value * (1 + return_rate)  # Apply returns\n",
        "            annual_expense = gross_value * expense_ratio  # Calculate expenses\n",
        "            net_value = gross_value - annual_expense  # Deduct expenses\n",
        "            total_expenses += annual_expense  # Accumulate expenses\n",
        "            value = net_value  # Update portfolio value for next year\n",
        "        results.append((year, value, total_expenses))\n",
        "    return results\n",
        "\n",
        "# Calculate\n",
        "results = calculate_expenses(initial_investment, annual_expense_ratio, annual_return_rate, holding_years)\n",
        "\n",
        "# Display results\n",
        "print(\"Year | Portfolio Value ($) | Total Expenses ($)\")\n",
        "for year, value, total_expenses in results:\n",
        "    print(f\"{year}    | {value:.2f}           | {total_expenses:.2f}\")\n"
      ]
    },
    {
      "cell_type": "markdown",
      "source": [
        "**TAX CALCULATION**"
      ],
      "metadata": {
        "id": "2VpVtAkAcVUO"
      }
    },
    {
      "cell_type": "code",
      "source": [
        "def calculate_returns(pre_tax_rate, tax_rate_dist, tax_rate_sale, years):\n",
        "    initial_investment = 1000  # Assume $1,000 initial investment\n",
        "\n",
        "    # Before taxes\n",
        "    before_tax = initial_investment * (1 + pre_tax_rate) ** years\n",
        "\n",
        "    # After taxes on distributions (annual distributions taxed)\n",
        "    annual_dist = pre_tax_rate * initial_investment  # Annual return as distribution\n",
        "    after_tax_dist = initial_investment\n",
        "    for _ in range(years):\n",
        "        after_tax_dist += annual_dist * (1 - tax_rate_dist)\n",
        "        after_tax_dist *= (1 + pre_tax_rate * (1 - tax_rate_dist))  # Remaining investment compounds\n",
        "\n",
        "    # After taxes on distributions and sale of shares (final gains taxed)\n",
        "    after_tax_sale = initial_investment * (1 + pre_tax_rate) ** years\n",
        "    gain = after_tax_sale - initial_investment  # Capital gains\n",
        "    after_tax_sale -= gain * tax_rate_sale\n",
        "\n",
        "    # Annualized returns\n",
        "    before_tax_annual = (before_tax / initial_investment) ** (1 / years) - 1\n",
        "    after_tax_dist_annual = (after_tax_dist / initial_investment) ** (1 / years) - 1\n",
        "    after_tax_sale_annual = (after_tax_sale / initial_investment) ** (1 / years) - 1\n",
        "\n",
        "    return before_tax_annual, after_tax_dist_annual, after_tax_sale_annual\n",
        "\n",
        "# Parameters\n",
        "pre_tax_rate = 0.10  # 10% annual return\n",
        "tax_rate_dist = 0.24  # 24% tax on distributions\n",
        "tax_rate_sale = 0.15  # 15% capital gains tax\n",
        "time_periods = [1, 5, 10]  # 1-year, 5-year, 10-year returns\n",
        "\n",
        "# Calculate returns\n",
        "data = []\n",
        "for years in time_periods:\n",
        "    data.append(calculate_returns(pre_tax_rate, tax_rate_dist, tax_rate_sale, years))\n",
        "\n",
        "# Print table headers\n",
        "print(\"\\nAverage Annual Total Returns\")\n",
        "print(f\"{'Time Period':<10} {'Before Taxes':<15} {'After Taxes on Dist.':<20} {'After Taxes on Sale':<20}\")\n",
        "\n",
        "# Print calculated data\n",
        "for i, years in enumerate(time_periods):\n",
        "    before, after_dist, after_sale = data[i]\n",
        "    print(f\"{years}-Year     {before*100:.2f}%          {after_dist*100:.2f}%              {after_sale*100:.2f}%\")\n"
      ],
      "metadata": {
        "colab": {
          "base_uri": "https://localhost:8080/"
        },
        "id": "dCux2umlQ4Pb",
        "outputId": "5dfd7379-3838-459a-abe3-5becebcaebc8"
      },
      "execution_count": 2,
      "outputs": [
        {
          "output_type": "stream",
          "name": "stdout",
          "text": [
            "\n",
            "Average Annual Total Returns\n",
            "Time Period Before Taxes    After Taxes on Dist. After Taxes on Sale \n",
            "1-Year     10.00%          15.78%              8.50%\n",
            "5-Year     10.00%          13.92%              8.72%\n",
            "10-Year     10.00%          12.48%              8.94%\n"
          ]
        }
      ]
    }
  ]
}