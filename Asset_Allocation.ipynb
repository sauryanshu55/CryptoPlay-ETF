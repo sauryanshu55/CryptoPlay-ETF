{
  "nbformat": 4,
  "nbformat_minor": 0,
  "metadata": {
    "colab": {
      "provenance": [],
      "authorship_tag": "ABX9TyPEVgfjhZSugcwol4lXcBCY",
      "include_colab_link": true
    },
    "kernelspec": {
      "name": "python3",
      "display_name": "Python 3"
    },
    "language_info": {
      "name": "python"
    }
  },
  "cells": [
    {
      "cell_type": "markdown",
      "metadata": {
        "id": "view-in-github",
        "colab_type": "text"
      },
      "source": [
        "<a href=\"https://colab.research.google.com/github/sauryanshu55/CryptoPlay-ETF/blob/main/Asset_Allocation.ipynb\" target=\"_parent\"><img src=\"https://colab.research.google.com/assets/colab-badge.svg\" alt=\"Open In Colab\"/></a>"
      ]
    },
    {
      "cell_type": "code",
      "execution_count": 1,
      "metadata": {
        "id": "gDx6yJ_w-x1x"
      },
      "outputs": [],
      "source": [
        "import yfinance as yf\n",
        "import numpy as np\n",
        "import pandas as pd\n",
        "from scipy.optimize import minimize\n"
      ]
    },
    {
      "cell_type": "code",
      "source": [
        "equities_ticker = \"ESPO\"\n",
        "crypto_tickers = [\"BTC-USD\", \"ETH-USD\"]\n",
        "start_date = \"2020-01-01\"\n",
        "end_date = \"2023-01-01\"\n",
        "risk_free_rate=0.03"
      ],
      "metadata": {
        "id": "G9a3KJRP-3Ir"
      },
      "execution_count": 2,
      "outputs": []
    },
    {
      "cell_type": "code",
      "source": [
        "def fetch_data(tickers, start, end):\n",
        "    data = yf.download(tickers, start=start, end=end)[\"Adj Close\"]\n",
        "    return data\n"
      ],
      "metadata": {
        "id": "NGjIcrbb-5dD"
      },
      "execution_count": 3,
      "outputs": []
    },
    {
      "cell_type": "code",
      "source": [
        "def calculate_annualized_metrics(returns):\n",
        "    mean_returns = returns.mean() * 252  # Annualize returns\n",
        "    cov_matrix = returns.cov() * 252    # Annualize covariance\n",
        "    return mean_returns, cov_matrix"
      ],
      "metadata": {
        "id": "QpXed1BO-9pO"
      },
      "execution_count": 4,
      "outputs": []
    },
    {
      "cell_type": "code",
      "source": [
        "\n",
        "def portfolio_performance(weights, mean_returns, cov_matrix, risk_free_rate=risk_free_rate):\n",
        "    portfolio_return = np.dot(weights, mean_returns)\n",
        "    portfolio_volatility = np.sqrt(np.dot(weights.T, np.dot(cov_matrix, weights)))\n",
        "    sharpe_ratio = (portfolio_return - risk_free_rate) / portfolio_volatility\n",
        "    return portfolio_return, portfolio_volatility, sharpe_ratio"
      ],
      "metadata": {
        "id": "klAE-St2-_vJ"
      },
      "execution_count": 5,
      "outputs": []
    },
    {
      "cell_type": "code",
      "source": [
        "\n",
        "def neg_sharpe_ratio(weights, mean_returns, cov_matrix, risk_free_rate=risk_free_rate):\n",
        "    _, _, sharpe_ratio = portfolio_performance(weights, mean_returns, cov_matrix, risk_free_rate)\n",
        "    return -sharpe_ratio"
      ],
      "metadata": {
        "id": "INq81RzZ_BdJ"
      },
      "execution_count": 6,
      "outputs": []
    },
    {
      "cell_type": "code",
      "source": [
        "def optimize_portfolio(mean_returns, cov_matrix):\n",
        "    num_assets = len(mean_returns)\n",
        "    args = (mean_returns, cov_matrix)\n",
        "    constraints = ({'type': 'eq', 'fun': lambda weights: np.sum(weights) - 1})\n",
        "    bounds = tuple((0, 1) for _ in range(num_assets))\n",
        "    initial_weights = num_assets * [1. / num_assets]\n",
        "\n",
        "    result = minimize(neg_sharpe_ratio, initial_weights, args=args, method='SLSQP', bounds=bounds, constraints=constraints)\n",
        "    return result.x"
      ],
      "metadata": {
        "id": "3k87srKA_Eii"
      },
      "execution_count": 7,
      "outputs": []
    },
    {
      "cell_type": "code",
      "source": [
        "# Fetch data\n",
        "equities_data = fetch_data([equities_ticker], start_date, end_date)\n",
        "crypto_data = fetch_data(crypto_tickers, start_date, end_date)\n",
        "\n",
        "# Calculate returns\n",
        "equities_returns = equities_data.pct_change().dropna()\n",
        "crypto_returns = crypto_data.pct_change().dropna()\n",
        "\n",
        "# Calculate annualized metrics\n",
        "equities_mean_returns, equities_cov_matrix = calculate_annualized_metrics(equities_returns)\n",
        "crypto_mean_returns, crypto_cov_matrix = calculate_annualized_metrics(crypto_returns)\n",
        "\n",
        "# Optimize individual portfolios\n",
        "equities_weights = optimize_portfolio(equities_mean_returns, equities_cov_matrix)\n",
        "crypto_weights = optimize_portfolio(crypto_mean_returns, crypto_cov_matrix)\n",
        "\n",
        "# Combine into asset class weights\n",
        "equities_portfolio_return = np.dot(equities_weights, equities_mean_returns)\n",
        "equities_portfolio_volatility = np.sqrt(np.dot(equities_weights.T, np.dot(equities_cov_matrix, equities_weights)))\n",
        "\n",
        "crypto_portfolio_return = np.dot(crypto_weights, crypto_mean_returns)\n",
        "crypto_portfolio_volatility = np.sqrt(np.dot(crypto_weights.T, np.dot(crypto_cov_matrix, crypto_weights)))\n",
        "\n",
        "# Calculate Sharpe ratio-based allocation\n",
        "total_volatility = equities_portfolio_volatility + crypto_portfolio_volatility\n",
        "equities_allocation = equities_portfolio_volatility / total_volatility\n",
        "crypto_allocation = crypto_portfolio_volatility / total_volatility\n",
        "\n",
        "# Combine returns and volatilities for total portfolio\n",
        "total_return = (\n",
        "  equities_allocation * equities_portfolio_return +\n",
        "  crypto_allocation * crypto_portfolio_return\n",
        ")\n",
        "\n",
        "# Calculate covariance between equities and crypto returns\n",
        "combined_returns = pd.concat([equities_returns, crypto_returns], axis=1)\n",
        "covariance_matrix = combined_returns.cov() * 252  # Annualize covariance\n",
        "equities_crypto_cov = covariance_matrix.iloc[0, 1]\n",
        "\n",
        "total_volatility = np.sqrt(\n",
        "  (equities_allocation ** 2 * equities_portfolio_volatility ** 2) +\n",
        "  (crypto_allocation ** 2 * crypto_portfolio_volatility ** 2) +\n",
        "  (2 * equities_allocation * crypto_allocation * equities_crypto_cov)\n",
        ")\n",
        "\n",
        "# Calculate total portfolio Sharpe ratio\n",
        "total_sharpe_ratio = (total_return - risk_free_rate) / total_volatility\n"
      ],
      "metadata": {
        "colab": {
          "base_uri": "https://localhost:8080/"
        },
        "id": "TEG7Wpz__Icu",
        "outputId": "36b9570f-a9e4-4c83-f0de-32e7928b0b03"
      },
      "execution_count": 8,
      "outputs": [
        {
          "output_type": "stream",
          "name": "stderr",
          "text": [
            "[*********************100%***********************]  1 of 1 completed\n",
            "[*********************100%***********************]  2 of 2 completed\n"
          ]
        }
      ]
    },
    {
      "cell_type": "code",
      "source": [
        "print(\"Total Portfolio Sharpe Ratio:\", total_sharpe_ratio)\n",
        "print(\"Equities Allocation (Asset Class):\", equities_allocation)\n",
        "print(\"Crypto Allocation (Asset Class):\", crypto_allocation)\n",
        "print(\"Equities Weights:\", equities_weights)\n",
        "print(\"Crypto Weights:\", crypto_weights)\n",
        "print(\"Total Expected Return:\", total_return)"
      ],
      "metadata": {
        "colab": {
          "base_uri": "https://localhost:8080/"
        },
        "id": "T3POJohc_d9t",
        "outputId": "dfa55b52-e4ee-44fb-ba58-479a85e8a02f"
      },
      "execution_count": 9,
      "outputs": [
        {
          "output_type": "stream",
          "name": "stdout",
          "text": [
            "Total Portfolio Sharpe Ratio: 0.9790483019067524\n",
            "Equities Allocation (Asset Class): 0.27957975423701664\n",
            "Crypto Allocation (Asset Class): 0.7204202457629834\n",
            "Equities Weights: [1.]\n",
            "Crypto Weights: [0. 1.]\n",
            "Total Expected Return: 0.6318742718835891\n"
          ]
        }
      ]
    }
  ]
}